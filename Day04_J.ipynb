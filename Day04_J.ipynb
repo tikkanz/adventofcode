{
 "cells": [
  {
   "cell_type": "markdown",
   "metadata": {},
   "source": [
    "# Day 4\n",
    "## Part 1\n",
    "\n",
    "Santa needs help mining some AdventCoins (very similar to bitcoins) to use as gifts \n",
    "for all the economically forward-thinking little girls and boys.\n",
    "\n",
    "To do this, he needs to find MD5 hashes which, in hexadecimal, start with at least \n",
    "five zeroes. The input to the MD5 hash is some secret key (your puzzle input, given \n",
    "below) followed by a number in decimal. To mine AdventCoins, you must find Santa the \n",
    "lowest positive number (no leading zeroes: 1, 2, 3, ...) that produces such a hash.\n",
    "\n",
    "For example:\n",
    "\n",
    "If your secret key is `abcdef`, the answer is `609043`, because the MD5 hash of \n",
    "`abcdef609043` starts with five zeroes (`000001dbbfa...`), and it is the lowest such \n",
    "number to do so.\n",
    "If your secret key is `pqrstuv`, the lowest number it combines with to make an MD5 \n",
    "hash starting with five zeroes is `1048970`; that is, the MD5 hash of `pqrstuv1048970` \n",
    "looks like `000006136ef....`\n",
    "\n",
    "Your puzzle input is `ckczppom`."
   ]
  },
  {
   "cell_type": "code",
   "execution_count": 3,
   "metadata": {
    "collapsed": false
   },
   "outputs": [
    {
     "name": "stdout",
     "output_type": "stream",
     "text": [
      "Day 4 Part 1: 117946\n"
     ]
    }
   ],
   "source": [
    "input=: 'ckczppom'\n",
    "require '~addons/ide/qt/qt.ijs'\n",
    "getmd5=: [: gethash_jqtide_ 'md5'&;\n",
    "\n",
    "makemd5hash=: [: getmd5 (, \":) \n",
    "testfirst0s=: (#&'0'@[ -.@-: {.)\n",
    "\n",
    "NB. >: ^: (5 testfirst0s 'abcdef' makemd5hash ])^:_ ] 1\n",
    "NB. >: ^: (5 testfirst0s 'pqrstuv' makemd5hash ])^:_ ] 1\n",
    "\n",
    "findhash=: 4 : '>: ^: (x testfirst0s y makemd5hash ])^:_ ] 1'\n",
    "echo 'Day 4 Part 1: ',\": 5 findhash input"
   ]
  },
  {
   "cell_type": "markdown",
   "metadata": {},
   "source": [
    "## Part 2\n",
    "Now find one that starts with six zeroes."
   ]
  },
  {
   "cell_type": "code",
   "execution_count": 4,
   "metadata": {
    "collapsed": false
   },
   "outputs": [
    {
     "name": "stdout",
     "output_type": "stream",
     "text": [
      "Day 4 Part 2: 3938038\n"
     ]
    }
   ],
   "source": [
    "echo 'Day 4 Part 2: ',\": 6 findhash input"
   ]
  }
 ],
 "metadata": {
  "kernelspec": {
   "display_name": "J",
   "language": "J",
   "name": "jkernel"
  },
  "language_info": {
   "file_extension": "ijs",
   "mimetype": "text/x-J",
   "name": "J"
  }
 },
 "nbformat": 4,
 "nbformat_minor": 0
}
