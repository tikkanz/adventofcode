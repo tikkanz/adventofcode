{
 "cells": [
  {
   "cell_type": "markdown",
   "metadata": {},
   "source": [
    "# Day 8\n",
    "## Part 1\n",
    "Space on the sleigh is limited this year, and so Santa will be bringing his list as a digital copy. He needs to know how much space it will take up when stored.\n",
    "\n",
    "It is common in many programming languages to provide a way to escape special characters in strings. For example, C, JavaScript, Perl, Python, and even PHP handle special characters in very similar ways.\n",
    "\n",
    "However, it is important to realize the difference between the number of characters in the code representation of the string literal and the number of characters in the in-memory string itself.\n",
    "\n",
    "For example:\n",
    "\n",
    "  * `\"\"` is 2 characters of code (the two double quotes), but the string contains zero characters.\n",
    "  * `\"abc\"` is 5 characters of code, but 3 characters in the string data.\n",
    "  * `\"aaa\\\"aaa\"` is 10 characters of code, but the string itself contains six `\"a\"` characters and a single, escaped quote character, for a total of 7 characters in the string data.\n",
    "  * `\"\\x27\"` is 6 characters of code, but the string itself contains just one - an apostrophe (`'`), escaped using hexadecimal notation.\n",
    "\n",
    "Santa's list is a file that contains many double-quoted string literals, one on each line. The only escape sequences used are `\\\\` (which represents a single backslash), `\\\"` (which represents a lone double-quote character), and `\\x` plus two hexadecimal characters (which represents a single character with that ASCII code).\n",
    "\n",
    "Disregarding the whitespace in the file, what is the number of characters of code for string literals minus the number of characters in memory for the values of the strings in total for the entire file?\n",
    "\n",
    "For example, given the four strings above, the total number of characters of string code (`2 + 5 + 10 + 6 = 23`) minus the total number of characters in memory for string values (`0 + 3 + 7 + 1 = 11`) is 23 - 11 = 12.\n",
    "\n",
    "```\n",
    "tst=: <;._2 noun define\n",
    "\"\"\n",
    "\"abc\"\n",
    "\"aaa\\\"aaa\"\n",
    "\"\\x27\"\n",
    ")\n",
    "```"
   ]
  },
  {
   "cell_type": "code",
   "execution_count": 1,
   "metadata": {
    "collapsed": false
   },
   "outputs": [
    {
     "name": "stdout",
     "output_type": "stream",
     "text": [
      "Day8 Part1: 1342\n"
     ]
    }
   ],
   "source": [
    "input=: 'b' freads '~Proj/adventofcode/advent08_input.txt'\n",
    "\n",
    "echo 'Day8 Part1: ',\": -/ +/ (#, [: # ('\\\\x[0123456789abcdefg]{2}';'\"') rxrplc ('\\\\\"';'\"') rxrplc ('\\\\\\\\';'\"') rxrplc }.@}:)&>  input"
   ]
  },
  {
   "cell_type": "markdown",
   "metadata": {},
   "source": [
    "## Part 2\n",
    "Now, let's go the other way. In addition to finding the number of characters of code, you should now encode each code representation as a new string and find the number of characters of the new encoded representation, including the surrounding double quotes.\n",
    "\n",
    "For example:\n",
    "\n",
    "  * `\"\"` encodes to `\"\\\"\\\"\"`, an increase from 2 characters to 6.\n",
    "  * `\"abc\"` encodes to `\"\\\"abc\\\"\"`, an increase from 5 characters to 9.\n",
    "  * `\"aaa\\\"aaa\"` encodes to `\"\\\"aaa\\\\\\\"aaa\\\"\"`, an increase from 10 characters to 16.\n",
    "  * `\"\\x27\"` encodes to `\"\\\"\\\\x27\\\"\"`, an increase from 6 characters to 11.\n",
    "\n",
    "Your task is to find the total number of characters to represent the newly encoded strings minus the number of characters of code in each original string literal. For example, for the strings above, the total encoded length (`6 + 9 + 16 + 11 = 42`) minus the characters in the original code representation (23, just like in the first part of this puzzle) is 42 - 23 = 19."
   ]
  },
  {
   "cell_type": "code",
   "execution_count": 2,
   "metadata": {
    "collapsed": false
   },
   "outputs": [
    {
     "name": "stdout",
     "output_type": "stream",
     "text": [
      "Day8 Part1: 2074\n"
     ]
    }
   ],
   "source": [
    "echo 'Day8 Part1: ',\": -/ +/ (# ,~ [: # [: ('\"' , ,&'\"') ('\\\\';'^^') rxrplc ('\"';'^\"') rxrplc ])&>  input"
   ]
  }
 ],
 "metadata": {
  "kernelspec": {
   "display_name": "J",
   "language": "J",
   "name": "jkernel"
  },
  "language_info": {
   "file_extension": "ijs",
   "mimetype": "text/x-J",
   "name": "J"
  }
 },
 "nbformat": 4,
 "nbformat_minor": 0
}
