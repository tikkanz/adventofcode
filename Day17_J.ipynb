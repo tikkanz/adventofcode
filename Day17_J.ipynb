{
 "cells": [
  {
   "cell_type": "markdown",
   "metadata": {},
   "source": [
    "# Day 17\n",
    "## Part 1\n",
    "The elves bought too much eggnog again - 150 liters this time. To fit it all into your refrigerator, you'll need to move it into smaller containers. You take an inventory of the capacities of the available containers.\n",
    "\n",
    "For example, suppose you have containers of size 20, 15, 10, 5, and 5 liters. If you need to store 25 liters, there are four ways to do it:\n",
    "```\n",
    "15 and 10\n",
    "20 and 5 (the first 5)\n",
    "20 and 5 (the second 5)\n",
    "15, 5, and 5\n",
    "```\n",
    "Filling all containers entirely, how many different combinations of containers can exactly fit all 150 liters of eggnog?"
   ]
  },
  {
   "cell_type": "code",
   "execution_count": 1,
   "metadata": {
    "collapsed": false
   },
   "outputs": [
    {
     "name": "stdout",
     "output_type": "stream",
     "text": [
      "Day17 Part1: 654\n"
     ]
    }
   ],
   "source": [
    "input=: _99 \". ];._2 freads '~Proj/adventofcode/advent17_input.txt'\n",
    "\n",
    "require 'stats'\n",
    "allidx=: 4 5 6 7 8 <@comb\"0 ] 20  NB. by inspection have to be more than 3 and less than 9 containers\n",
    "\n",
    "echo 'Day17 Part1: ',\":  +/ 150 = ; allidx ([: +/\"1 {)&.> <input"
   ]
  },
  {
   "cell_type": "markdown",
   "metadata": {},
   "source": [
    "## Part 2\n",
    "While playing with all the containers in the kitchen, another load of eggnog arrives! The shipping and receiving department is requesting as many containers as you can spare.\n",
    "\n",
    "Find the minimum number of containers that can exactly fit all 150 liters of eggnog. How many different ways can you fill that number of containers and still hold exactly 150 litres?\n",
    "\n",
    "In the example above, the minimum number of containers was two. There were three ways to use that many containers, and so the answer there would be 3."
   ]
  },
  {
   "cell_type": "code",
   "execution_count": 2,
   "metadata": {
    "collapsed": false
   },
   "outputs": [
    {
     "name": "stdout",
     "output_type": "stream",
     "text": [
      "Day17 Part2: 57\n"
     ]
    }
   ],
   "source": [
    "echo 'Day17 Part2: ',\":  {. 0 -.~ ([: +/ 150&=)&> allidx ([: +/\"1 {)&.> <input"
   ]
  }
 ],
 "metadata": {
  "kernelspec": {
   "display_name": "J",
   "language": "J",
   "name": "jkernel"
  },
  "language_info": {
   "file_extension": "ijs",
   "mimetype": "text/x-J",
   "name": "J"
  }
 },
 "nbformat": 4,
 "nbformat_minor": 0
}
