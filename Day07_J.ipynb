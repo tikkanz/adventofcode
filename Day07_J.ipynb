{
 "cells": [
  {
   "cell_type": "markdown",
   "metadata": {},
   "source": [
    "# Day 7\n",
    "## Part 1\n",
    "This year, Santa brought little Bobby Tables a set of wires and bitwise logic gates! Unfortunately, little Bobby is a little under the recommended age range, and he needs help assembling the circuit.\n",
    "\n",
    "Each wire has an identifier (some lowercase letters) and can carry a 16-bit signal (a number from 0 to 65535). A signal is provided to each wire by a gate, another wire, or some specific value. Each wire can only get a signal from one source, but can provide its signal to multiple destinations. A gate provides no signal until all of its inputs have a signal.\n",
    "\n",
    "The included instructions booklet describes how to connect the parts together: `x AND y -> z` means to connect wires `x` and `y` to an `AND` gate, and then connect its output to wire `z`.\n",
    "\n",
    "For example:\n",
    "\n",
    " * `123 -> x` means that the signal `123` is provided to wire `x`.\n",
    " * `x AND y -> z` means that the bitwise `AND` of wire `x` and wire `y` is provided to wire `z`.\n",
    " * `p LSHIFT 2 -> q` means that the value from wire `p` is left-shifted by 2 and then provided to wire `q`.\n",
    " * `NOT e -> f` means that the bitwise complement of the value from wire e is provided to wire `f`.\n",
    "\n",
    "Other possible gates include `OR` (bitwise OR) and `RSHIFT` (right-shift). If, for some reason, you'd like to emulate the circuit instead, almost all programming languages (for example, C, JavaScript, or Python) provide operators for these gates.\n",
    "\n",
    "For example, here is a simple circuit:\n",
    "```\n",
    "123 -> x\n",
    "456 -> y\n",
    "x AND y -> d\n",
    "x OR y -> e\n",
    "x LSHIFT 2 -> f\n",
    "y RSHIFT 2 -> g\n",
    "NOT x -> h\n",
    "NOT y -> i\n",
    "```\n",
    "After it is run, these are the signals on the wires:\n",
    "```\n",
    "d: 72\n",
    "e: 507\n",
    "f: 492\n",
    "g: 114\n",
    "h: 65412\n",
    "i: 65079\n",
    "x: 123\n",
    "y: 456\n",
    "```\n",
    "In little Bobby's kit's instructions booklet (provided as your puzzle input), what signal is ultimately provided to wire a?\n",
    ")"
   ]
  },
  {
   "cell_type": "code",
   "execution_count": 1,
   "metadata": {
    "collapsed": false
   },
   "outputs": [
    {
     "name": "stdout",
     "output_type": "stream",
     "text": [
      "Day7 Part1: 16076\n"
     ]
    }
   ],
   "source": [
    "RSHIFT=: (2^16) | ((34 b.)~ -@])\n",
    "LSHIFT=: (2^16) | (34 b.)~\n",
    "AND=: (2^16) | 17 b.\n",
    "OR=: (2^16) | 23 b.\n",
    "NOT=: (2^16) | 26 b.\n",
    "\n",
    "NB. need to sort instructions to make sure dependent lines are after starting ones\n",
    "getIds=: [: ({: , }:)@;:;._2 ('ANDLRSHIFT->O1234567890') -.~ ]\n",
    "isParent=: {.\"1 e. [: (a: -.~ ~.)@, }.\"1\n",
    "getGen=: +/@(e.\"2 (#~ isParent)^:a:)@getIds\n",
    "sortPed=: \\: getGen\n",
    "\n",
    "getCmds=: <@([: '=. '&joinstring [: |. ' -> '&splitstring);._2\n",
    "\n",
    "input=: freads '~Proj/adventofcode/advent07_input.txt'\n",
    "runCircuit=: 3 : ((getCmds sortPed ]) input)\n",
    "    \n",
    "echo 'Day7 Part1: ',\": runCircuit ''"
   ]
  },
  {
   "cell_type": "markdown",
   "metadata": {},
   "source": [
    "## Part 2\n",
    "Now, take the signal you got on wire a, override wire b to that \n",
    "signal, and reset the other wires (including wire a). What new \n",
    "signal is ultimately provided to wire a?"
   ]
  },
  {
   "cell_type": "code",
   "execution_count": 2,
   "metadata": {
    "collapsed": false
   },
   "outputs": [
    {
     "name": "stdout",
     "output_type": "stream",
     "text": [
      "Day7 Part1: 2797\n"
     ]
    }
   ],
   "source": [
    "runCircuit2=: 3 : (('a=. y';'b=. a') ,}. ((getCmds sortPed ]) input))\n",
    "\n",
    "echo 'Day7 Part1: ',\": runCircuit2^:2  ] 19138"
   ]
  }
 ],
 "metadata": {
  "kernelspec": {
   "display_name": "J",
   "language": "J",
   "name": "jkernel"
  },
  "language_info": {
   "file_extension": "ijs",
   "mimetype": "text/x-J",
   "name": "J"
  }
 },
 "nbformat": 4,
 "nbformat_minor": 0
}
