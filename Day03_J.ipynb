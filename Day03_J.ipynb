{
 "cells": [
  {
   "cell_type": "markdown",
   "metadata": {},
   "source": [
    "# Day3\n",
    "## Part1\n",
    "Santa is delivering presents to an infinite two-dimensional grid of houses.\n",
    "\n",
    "He begins by delivering a present to the house at his starting location, and then an elf at the North Pole calls him via radio and tells him where to move next. Moves are always exactly one house to the north (^), south (v), east (>), or west (<). After each move, he delivers another present to the house at his new location.\n",
    "\n",
    "However, the elf back at the north pole has had a little too much eggnog, and so his directions are a little off, and Santa ends up visiting some houses more than once. How many houses receive at least one present?\n",
    "\n",
    "For example:\n",
    "\n",
    "    > delivers presents to 2 houses: one at the starting location, and one to the east.\n",
    "    ^>v< delivers presents to 4 houses in a square, including twice to the house at his starting/ending location.\n",
    "    ^v^v^v^v^v delivers a bunch of presents to some very lucky children at only 2 houses."
   ]
  },
  {
   "cell_type": "code",
   "execution_count": 2,
   "metadata": {
    "collapsed": false
   },
   "outputs": [
    {
     "name": "stdout",
     "output_type": "stream",
     "text": [
      "Day3 Part1: 2592\n"
     ]
    }
   ],
   "source": [
    "Directions=: LF -.~ freads '~Proj/adventofcode/advent03_input.txt'\n",
    "NB. echo # ~. +/\\ 0 0 , (1 0 , _1 0 , 0 _1,: 0 1) {~ '^v<>' i. directions\n",
    "\n",
    "Moves=: 1 0 , _1 0 , 0 _1 ,: 0 1\n",
    "getMoves=: Moves {~ '^v<>'&i.\n",
    "travel=: +/\\@(0 0 , ])\n",
    "getLocs=: travel@getMoves\n",
    "nUniqLocs=: #@~.@getLocs\n",
    "echo 'Day3 Part1: ', \": nUniqLocs Directions"
   ]
  },
  {
   "cell_type": "markdown",
   "metadata": {},
   "source": [
    "## Part 2\n",
    "The next year, to speed up the process, Santa creates a robot version of himself, Robo-Santa, to deliver presents with him.\n",
    "\n",
    "Santa and Robo-Santa start at the same location (delivering two presents to the same starting house), then take turns moving based on instructions from the elf, who is eggnoggedly reading from the same script as the previous year.\n",
    "\n",
    "This year, how many houses receive at least one present?\n",
    "\n",
    "For example:\n",
    "\n",
    "    ^v delivers presents to 3 houses, because Santa goes north, and then Robo-Santa goes south.\n",
    "    ^>v< now delivers presents to 3 houses, and Santa and Robo-Santa end up back where they started.\n",
    "    ^v^v^v^v^v now delivers presents to 11 houses, with Santa going one direction and Robo-Santa going the other."
   ]
  },
  {
   "cell_type": "code",
   "execution_count": 3,
   "metadata": {
    "collapsed": false
   },
   "outputs": [
    {
     "name": "stdout",
     "output_type": "stream",
     "text": [
      "Day3 Part2: 2360\n"
     ]
    }
   ],
   "source": [
    "NB. echo # ~. ({:\"2 ,&([: +/\\ 0 0&,) {.\"2) _2]\\  (1 0 , _1 0 , 0 _1,: 0 1) {~ '^v<>' i. directions\n",
    "\n",
    "getBothLocs=: ({:\"2 ,&travel {.\"2)@(_2 ]\\ getMoves)\n",
    "nUniqLocs2=: #@~.@getBothLocs \n",
    "\n",
    "echo 'Day3 Part2: ', \": nUniqLocs2 Directions"
   ]
  }
 ],
 "metadata": {
  "kernelspec": {
   "display_name": "J",
   "language": "J",
   "name": "jkernel"
  },
  "language_info": {
   "file_extension": "ijs",
   "mimetype": "text/x-J",
   "name": "J"
  }
 },
 "nbformat": 4,
 "nbformat_minor": 0
}
