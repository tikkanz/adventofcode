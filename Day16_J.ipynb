{
 "cells": [
  {
   "cell_type": "markdown",
   "metadata": {},
   "source": [
    "# Day 16\n",
    "## Part 1\n",
    "Your Aunt Sue has given you a wonderful gift, and you'd like to send her a thank you card. However, there's a small problem: she signed it \"From, Aunt Sue\".\n",
    "\n",
    "You have 500 Aunts named \"Sue\".\n",
    "\n",
    "So, to avoid sending the card to the wrong person, you need to figure out which Aunt Sue (which you conveniently number 1 to 500, for sanity) gave you the gift. You open the present and, as luck would have it, good ol' Aunt Sue got you a My First Crime Scene Analysis Machine! Just what you wanted. Or needed, as the case may be.\n",
    "\n",
    "The My First Crime Scene Analysis Machine (MFCSAM for short) can detect a few specific compounds in a given sample, as well as how many distinct kinds of those compounds there are. According to the instructions, these are what the MFCSAM can detect:\n",
    "\n",
    "  * children, by human DNA age analysis.\n",
    "  * cats. It doesn't differentiate individual breeds.\n",
    "  * Several seemingly random breeds of dog: samoyeds, pomeranians, akitas, and vizslas.\n",
    "  * goldfish. No other kinds of fish.\n",
    "  * trees, all in one group.\n",
    "  * cars, presumably by exhaust or gasoline or something.\n",
    "  * perfumes, which is handy, since many of your Aunts Sue wear a few kinds.\n",
    "\n",
    "In fact, many of your Aunts Sue have many of these. You put the wrapping from the gift into the MFCSAM. It beeps inquisitively at you a few times and then prints out a message on ticker tape:\n",
    "```\n",
    "children: 3\n",
    "cats: 7\n",
    "samoyeds: 2\n",
    "pomeranians: 3\n",
    "akitas: 0\n",
    "vizslas: 0\n",
    "goldfish: 5\n",
    "trees: 3\n",
    "cars: 2\n",
    "perfumes: 1\n",
    "```\n",
    "You make a list of the things you can remember about each Aunt Sue. Things missing from your list aren't zero - you simply don't remember the value.\n",
    "\n",
    "What is the number of the Sue that got you the gift?"
   ]
  },
  {
   "cell_type": "code",
   "execution_count": null,
   "metadata": {
    "collapsed": true
   },
   "outputs": [],
   "source": [
    "require 'tables/csv'\n",
    "\n",
    "target=: <@-.&' ';._2 noun define\n",
    "children: 3\n",
    "cats: 7\n",
    "samoyeds: 2\n",
    "pomeranians: 3\n",
    "akitas: 0\n",
    "vizslas: 0\n",
    "goldfish: 5\n",
    "trees: 3\n",
    "cars: 2\n",
    "perfumes: 1\n",
    ")\n",
    "\n",
    "input=: freads '~Proj/adventofcode/advent16_input.txt'\n",
    "aunts=: (',' splitstring ':'&takeafter);._2 -.&' ' input\n",
    "\n",
    "echo 'Day16 Part1: ',\":  1 + I. *./\"1 aunts e.\"1 target\n",
    "\n",
    "NB. or using same framework as Part 2\n",
    "NB. echo 1 + I. *./\"1 tvals =&((_ ~: PropVals) #\"1 ]) PropVals"
   ]
  },
  {
   "cell_type": "markdown",
   "metadata": {},
   "source": [
    "## Part 2\n",
    "As you're about to send the thank you note, something in the MFCSAM's instructions catches your eye. Apparently, it has an outdated retroencabulator, and so the output from the machine isn't exact values - some of them indicate ranges.\n",
    "\n",
    "In particular, the cats and trees readings indicates that there are greater than that many (due to the unpredictable nuclear decay of cat dander and tree pollen), while the pomeranians and goldfish readings indicate that there are fewer than that many (due to the modial interaction of magnetoreluctance).\n",
    "\n",
    "What is the number of the real Aunt Sue?"
   ]
  },
  {
   "cell_type": "code",
   "execution_count": 5,
   "metadata": {
    "collapsed": false
   },
   "outputs": [
    {
     "name": "stdout",
     "output_type": "stream",
     "text": [
      "Day16 Part2: 1\n",
      "|syntax error\n",
      "|       echo'Day16 Part2: ',\":1+I.*./\"1 newtvals=&((_~:PropVals)#\"1])*PropVals-\"1 tvals\n"
     ]
    }
   ],
   "source": [
    "getProps=: ':'&taketo&.>\n",
    "getVals=: _99 \". ':'&takeafter&>\n",
    "aprops=: target i.&:getProps aunts\n",
    "avals=: getVals aunts\n",
    "tprops=: getProps target\n",
    "tvals=: getVals target\n",
    "PropVals=: avals ((i.@# ,&.> ]) aprops)}  _ $~ aunts ,&# target\n",
    "\n",
    "NB. Aunt Sue has more cats and trees, fewer pomeranians and goldfish than Target.\n",
    "newtvals=: _1 (tprops i. ;:'pomeranians goldfish')} 1 (tprops i. ;:'cats trees')} (0 $~ #) tvals\n",
    "\n",
    "echo 'Day16 Part2: ',\":  1 + I. *./\"1 newtvals =&((_ ~: PropVals) #\"1 ]) * PropVals -\"1 tvals"
   ]
  }
 ],
 "metadata": {
  "kernelspec": {
   "display_name": "J",
   "language": "J",
   "name": "jkernel"
  },
  "language_info": {
   "file_extension": "ijs",
   "mimetype": "text/x-J",
   "name": "J"
  }
 },
 "nbformat": 4,
 "nbformat_minor": 0
}
