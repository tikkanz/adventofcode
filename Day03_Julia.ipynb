{
 "cells": [
  {
   "cell_type": "markdown",
   "metadata": {},
   "source": [
    "## Part 1\n",
    "Santa is delivering presents to an infinite two-dimensional grid of houses.\n",
    "\n",
    "He begins by delivering a present to the house at his starting location, and then an elf at the North Pole calls him via radio and tells him where to move next. Moves are always exactly one house to the north (^), south (v), east (>), or west (<). After each move, he delivers another present to the house at his new location.\n",
    "\n",
    "However, the elf back at the north pole has had a little too much eggnog, and so his directions are a little off, and Santa ends up visiting some houses more than once. How many houses receive at least one present?\n",
    "\n",
    "For example:\n",
    "\n",
    "    > delivers presents to 2 houses: one at the starting location, and one to the east.\n",
    "    ^>v< delivers presents to 4 houses in a square, including twice to the house at his starting/ending location.\n",
    "    ^v^v^v^v^v delivers a bunch of presents to some very lucky children at only 2 houses."
   ]
  },
  {
   "cell_type": "code",
   "execution_count": 29,
   "metadata": {
    "collapsed": false
   },
   "outputs": [
    {
     "data": {
      "text/plain": [
       "getUniqLocs (generic function with 1 method)"
      ]
     },
     "execution_count": 29,
     "metadata": {},
     "output_type": "execute_result"
    }
   ],
   "source": [
    "function getUniqLocs(directions)\n",
    "    Moves = [1 0 ; -1 0 ; 0 1 ; 0 -1]\n",
    "    #MoveList = [Moves[search(\"^v<>\",x),:] for x in collect(directions)]\n",
    "    MoveList = map(x -> Moves[search(\"^v<>\",x),:], collect(directions))\n",
    "    Loc = [0 0]\n",
    "    Locs = Set{Tuple}([tuple(Loc...)])\n",
    "    for move in MoveList\n",
    "        Loc += move\n",
    "        push!(Locs, tuple(Loc...))\n",
    "    end\n",
    "    return Locs\n",
    "end"
   ]
  },
  {
   "cell_type": "code",
   "execution_count": 30,
   "metadata": {
    "collapsed": false
   },
   "outputs": [
    {
     "name": "stdout",
     "output_type": "stream",
     "text": [
      "  "
     ]
    },
    {
     "data": {
      "text/plain": [
       "2592"
      ]
     },
     "execution_count": 30,
     "metadata": {},
     "output_type": "execute_result"
    },
    {
     "name": "stdout",
     "output_type": "stream",
     "text": [
      "0.095239 seconds (96.06 k allocations: 4.262 MB)\n"
     ]
    }
   ],
   "source": [
    "Directions = readall(\"advent03_input.txt\")\n",
    "@time length(getUniqLocs(Directions))"
   ]
  },
  {
   "cell_type": "markdown",
   "metadata": {},
   "source": [
    "### Thomas Lopdell"
   ]
  },
  {
   "cell_type": "code",
   "execution_count": 27,
   "metadata": {
    "collapsed": false
   },
   "outputs": [
    {
     "data": {
      "text/plain": [
       "visit (generic function with 1 method)"
      ]
     },
     "execution_count": 27,
     "metadata": {},
     "output_type": "execute_result"
    }
   ],
   "source": [
    "function move( instr::Char, pos::Tuple{Int64,Int64} )\n",
    "        (x,y) = pos\n",
    "        if instr == '^'\n",
    "            return (x,y-1)\n",
    "        elseif instr == 'v'\n",
    "            return (x,y+1)\n",
    "        elseif instr == '<'\n",
    "            return (x-1,y)\n",
    "        elseif instr == '>'\n",
    "            return (x+1,y)\n",
    "        else\n",
    "            error( @sprintf \"%c is not a valid movement\"  instr )\n",
    "        end\n",
    "end\n",
    "\n",
    "function visit( instructions::ASCIIString )\n",
    "        currentPos = (0,0)\n",
    "        visitedLocations = Dict{Tuple{Int64,Int64},Int64}( currentPos => 1 )\n",
    "\n",
    "        for instr in instructions\n",
    "                newPos = move(instr, currentPos)\n",
    "\n",
    "                if haskey(visitedLocations, newPos)\n",
    "                        visitedLocations[newPos] += 1\n",
    "                else\n",
    "                        visitedLocations[newPos] = 1\n",
    "                end\n",
    "\n",
    "                currentPos = newPos\n",
    "        end\n",
    "\n",
    "        return visitedLocations\n",
    "end"
   ]
  },
  {
   "cell_type": "code",
   "execution_count": 28,
   "metadata": {
    "collapsed": false
   },
   "outputs": [
    {
     "name": "stdout",
     "output_type": "stream",
     "text": [
      "  "
     ]
    },
    {
     "data": {
      "text/plain": [
       "2592"
      ]
     },
     "execution_count": 28,
     "metadata": {},
     "output_type": "execute_result"
    },
    {
     "name": "stdout",
     "output_type": "stream",
     "text": [
      "0.063872 seconds (11.69 k allocations: 653.873 KB)\n"
     ]
    }
   ],
   "source": [
    "f = open(\"advent03_input.txt\")\n",
    "instructions = chomp(readline(f))\n",
    "close(f)\n",
    "\n",
    "#visits = visit(instructions)\n",
    "@time numHouses = length(keys(visit(instructions)))"
   ]
  },
  {
   "cell_type": "markdown",
   "metadata": {},
   "source": [
    "## Part 2\n",
    "The next year, to speed up the process, Santa creates a robot version of himself, Robo-Santa, to deliver presents with him.\n",
    "\n",
    "Santa and Robo-Santa start at the same location (delivering two presents to the same starting house), then take turns moving based on instructions from the elf, who is eggnoggedly reading from the same script as the previous year.\n",
    "\n",
    "This year, how many houses receive at least one present?\n",
    "\n",
    "For example:\n",
    "\n",
    "    ^v delivers presents to 3 houses, because Santa goes north, and then Robo-Santa goes south.\n",
    "    ^>v< now delivers presents to 3 houses, and Santa and Robo-Santa end up back where they started.\n",
    "    ^v^v^v^v^v now delivers presents to 11 houses, with Santa going one direction and Robo-Santa going the other."
   ]
  },
  {
   "cell_type": "code",
   "execution_count": 23,
   "metadata": {
    "collapsed": false
   },
   "outputs": [
    {
     "data": {
      "text/plain": [
       "countRoboSantaLocs (generic function with 1 method)"
      ]
     },
     "execution_count": 23,
     "metadata": {},
     "output_type": "execute_result"
    }
   ],
   "source": [
    "function countRoboSantaLocs(directions)\n",
    "    SantaLocs = getUniqLocs(directions[1:2:end])\n",
    "    RoboLocs = getUniqLocs(directions[2:2:end])\n",
    "    length(union(SantaLocs,RoboLocs))\n",
    "end"
   ]
  },
  {
   "cell_type": "code",
   "execution_count": 32,
   "metadata": {
    "collapsed": false
   },
   "outputs": [
    {
     "name": "stdout",
     "output_type": "stream",
     "text": [
      "  "
     ]
    },
    {
     "data": {
      "text/plain": [
       "2360"
      ]
     },
     "execution_count": 32,
     "metadata": {},
     "output_type": "execute_result"
    },
    {
     "name": "stdout",
     "output_type": "stream",
     "text": [
      "0.055811 seconds (102.68 k allocations: 4.334 MB)\n"
     ]
    }
   ],
   "source": [
    "@time countRoboSantaLocs(Directions)"
   ]
  },
  {
   "cell_type": "markdown",
   "metadata": {},
   "source": [
    "### Thomas Lopdell"
   ]
  },
  {
   "cell_type": "code",
   "execution_count": 17,
   "metadata": {
    "collapsed": false
   },
   "outputs": [
    {
     "data": {
      "text/plain": [
       "visitWithRobot (generic function with 1 method)"
      ]
     },
     "execution_count": 17,
     "metadata": {},
     "output_type": "execute_result"
    }
   ],
   "source": [
    "function visitWithRobot( instructions::ASCIIString )\n",
    "        currentPos = (0,0)\n",
    "        robotPos = (0,0)\n",
    "        visitedLocations = Dict{Tuple{Int64,Int64},Int64}( currentPos => 2 )\n",
    "\n",
    "        for pair in enumerate(instructions)\n",
    "                (ind, instr) = pair\n",
    "\n",
    "                if ind % 2 == 1\n",
    "                        # Move santa\n",
    "                        currentPos = move(instr, currentPos)\n",
    "\n",
    "                        if haskey(visitedLocations, currentPos)\n",
    "                                visitedLocations[currentPos] += 1\n",
    "                        else\n",
    "                                visitedLocations[currentPos] = 1\n",
    "                        end\n",
    "                else\n",
    "                        # Move robo-santa\n",
    "                        robotPos = move(instr, robotPos)\n",
    "\n",
    "                        if haskey(visitedLocations, robotPos)\n",
    "                                visitedLocations[robotPos] += 1\n",
    "                        else\n",
    "                                visitedLocations[robotPos] = 1\n",
    "                        end\n",
    "                end\n",
    "\n",
    "        end\n",
    "\n",
    "        return visitedLocations\n",
    "\n",
    "end"
   ]
  },
  {
   "cell_type": "code",
   "execution_count": 31,
   "metadata": {
    "collapsed": false
   },
   "outputs": [
    {
     "name": "stdout",
     "output_type": "stream",
     "text": [
      "  0.001050 seconds (44 allocations: 135.078 KB)\n",
      "Part One: 2592\n",
      "Part Two: 2360\n"
     ]
    }
   ],
   "source": [
    "### Part 2\n",
    "#visitsWithRobot = visitWithRobot(instructions)\n",
    "@time numHousesWithRobot = length(keys(visitWithRobot(instructions)))\n",
    "\n",
    "@printf \"Part One: %d\\nPart Two: %d\\n\"  numHouses  numHousesWithRobot"
   ]
  }
 ],
 "metadata": {
  "kernelspec": {
   "display_name": "Julia 0.4.1",
   "language": "julia",
   "name": "julia-0.4"
  },
  "language_info": {
   "file_extension": ".jl",
   "mimetype": "application/julia",
   "name": "julia",
   "version": "0.4.1"
  }
 },
 "nbformat": 4,
 "nbformat_minor": 0
}
