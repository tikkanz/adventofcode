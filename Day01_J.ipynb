{
 "cells": [
  {
   "cell_type": "markdown",
   "metadata": {},
   "source": [
    "http://adventofcode.com/\n",
    "\n",
    "# Advent of Code Day 1\n",
    "\n",
    "## Part 1\n",
    "Santa is trying to deliver presents in a large apartment building, but he can't find \n",
    "the right floor - the directions he got are a little confusing. He starts on the \n",
    "ground floor (floor 0) and then follows the instructions one character at a time.\n",
    "\n",
    "An opening parenthesis, `(`, means he should go up one floor, and a closing parenthesis, \n",
    "`)`, means he should go down one floor.\n",
    "\n",
    "The apartment building is very tall, and the basement is very deep; he will never find \n",
    "the top or bottom floors.\n",
    "\n",
    "For example:\n",
    "\n",
    "    (()) and ()() both result in floor 0.\n",
    "    ((( and (()(()( both result in floor 3.\n",
    "    ))((((( also results in floor 3.\n",
    "    ()) and ))( both result in floor -1 (the first basement level).\n",
    "    ))) and )())()) both result in floor -3.\n",
    "\n",
    "To what floor do the instructions take Santa?"
   ]
  },
  {
   "cell_type": "code",
   "execution_count": 1,
   "metadata": {
    "collapsed": false
   },
   "outputs": [
    {
     "name": "stdout",
     "output_type": "stream",
     "text": [
      "Day1 Part1:  74\n"
     ]
    }
   ],
   "source": [
    "input=: LF -.~ freads '~Proj/adventofcode/advent1_input.txt'\n",
    "\n",
    "floor=: [: +/@:<: ') ('&i.\n",
    "echo 'Day1 Part1:  ',\": floor input"
   ]
  },
  {
   "cell_type": "markdown",
   "metadata": {},
   "source": [
    "## Part 2\n",
    "Now, given the same instructions, find the position of the first character that causes \n",
    "him to enter the basement (floor -1). The first character in the instructions has \n",
    "position 1, the second character has position 2, and so on.\n",
    "\n",
    "For example:\n",
    "\n",
    "    ) causes him to enter the basement at character position 1.\n",
    "    ()()) causes him to enter the basement at character position 5.\n",
    "\n",
    "What is the position of the character that causes Santa to first enter the basement?"
   ]
  },
  {
   "cell_type": "code",
   "execution_count": 2,
   "metadata": {
    "collapsed": false
   },
   "outputs": [
    {
     "name": "stdout",
     "output_type": "stream",
     "text": [
      "Day1 Part2:  1795\n"
     ]
    }
   ],
   "source": [
    "firstBmt=: _1 >:@(= i. 1:) floor\\\n",
    "echo 'Day1 Part2:  ',\": firstBmt input"
   ]
  }
 ],
 "metadata": {
  "kernelspec": {
   "display_name": "J",
   "language": "J",
   "name": "jkernel"
  },
  "language_info": {
   "file_extension": "ijs",
   "mimetype": "text/x-J",
   "name": "J"
  }
 },
 "nbformat": 4,
 "nbformat_minor": 0
}
