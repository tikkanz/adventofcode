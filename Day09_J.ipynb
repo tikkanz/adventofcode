{
 "cells": [
  {
   "cell_type": "markdown",
   "metadata": {},
   "source": [
    "# Day 9\n",
    "## Part 1\n",
    "Every year, Santa manages to deliver all of his presents in a single night.\n",
    "\n",
    "This year, however, he has some new locations to visit; his elves have provided him the distances between every pair of locations. He can start and end at any two (different) locations he wants, but he must visit each location exactly once. What is the shortest distance he can travel to achieve this?\n",
    "\n",
    "For example, given the following distances:\n",
    "```\n",
    "London to Dublin = 464\n",
    "London to Belfast = 518\n",
    "Dublin to Belfast = 141\n",
    "```\n",
    "The possible routes are therefore:\n",
    "```\n",
    "Dublin -> London -> Belfast = 982\n",
    "London -> Dublin -> Belfast = 605\n",
    "London -> Belfast -> Dublin = 659\n",
    "Dublin -> Belfast -> London = 659\n",
    "Belfast -> Dublin -> London = 605\n",
    "Belfast -> London -> Dublin = 982\n",
    "```\n",
    "The shortest of these is London -> Dublin -> Belfast = 605, and so the answer is 605 \n",
    "in this example.\n",
    "\n",
    "What is the distance of the shortest route?\n",
    ")"
   ]
  },
  {
   "cell_type": "code",
   "execution_count": 1,
   "metadata": {
    "collapsed": false
   },
   "outputs": [
    {
     "name": "stdout",
     "output_type": "stream",
     "text": [
      "Day9 Part1: 141\n"
     ]
    }
   ],
   "source": [
    "input=: (0 2 4 { ;:);._2 freads '~Proj/adventofcode/advent09_input.txt'\n",
    "Locs=: ~. , 2{.\"1 input\n",
    "\n",
    "Trips=: <\"1 Locs i. 2 {.\"1 input\n",
    "Distances=: _99 \". > {:\"1 input\n",
    "Routes=: 2 <@/:~\\\"1 (i.@!@# A. ]) i.#Locs\n",
    "\n",
    "echo 'Day9 Part1: ',\": <./ +/\"1 Distances {~ Trips i. Routes"
   ]
  },
  {
   "cell_type": "markdown",
   "metadata": {},
   "source": [
    "# Part 2\n",
    "The next year, just to show off, Santa decides to take the route with the longest distance instead.\n",
    "\n",
    "He can still start and end at any two (different) locations he wants, and he still must visit each location exactly once.\n",
    "\n",
    "For example, given the distances above, the longest route would be 982 via (for example) Dublin -> London -> Belfast.\n",
    "\n",
    "What is the distance of the longest route?"
   ]
  },
  {
   "cell_type": "code",
   "execution_count": 2,
   "metadata": {
    "collapsed": false
   },
   "outputs": [
    {
     "name": "stdout",
     "output_type": "stream",
     "text": [
      "Day9 Part2: 736\n"
     ]
    }
   ],
   "source": [
    "echo 'Day9 Part2: ',\":  >./ +/\"1 Distances {~ Trips i. Routes"
   ]
  }
 ],
 "metadata": {
  "kernelspec": {
   "display_name": "J",
   "language": "J",
   "name": "jkernel"
  },
  "language_info": {
   "file_extension": "ijs",
   "mimetype": "text/x-J",
   "name": "J"
  }
 },
 "nbformat": 4,
 "nbformat_minor": 0
}
