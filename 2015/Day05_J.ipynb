{
 "cells": [
  {
   "cell_type": "markdown",
   "metadata": {},
   "source": [
    "# Day 5\n",
    "## Part 1\n",
    "Santa needs help figuring out which strings in his text file are naughty or nice.\n",
    "\n",
    "A nice string is one with all of the following properties:\n",
    "\n",
    "  * It contains at least three vowels (`aeiou` only), like `aei`, `xazegov`, or `aeiouaeiouaeiou`.\n",
    "  * It contains at least one letter that appears twice in a row, like `xx`, `abcdde` (`dd`), or `aabbccdd` (`aa`, `bb`, `cc`, or `dd`).\n",
    "  * It does not contain the strings `ab`, `cd`, `pq`, or `xy`, even if they are part of one of the other requirements.\n",
    "\n",
    "For example:\n",
    "\n",
    "  * `ugknbfddgicrmopn` is nice because it has at least three vowels (`u...i...o...`), \n",
    "a double letter (`...dd...`), and none of the disallowed substrings.\n",
    "  * `aaa` is nice because it has at least three vowels and a double letter, even though the letters used by different rules overlap.\n",
    "  * `jchzalrnumimnmhp` is naughty because it has no double letter.\n",
    "  * `haegwjzuvuyypxyu` is naughty because it contains the string `xy`.\n",
    "  * `dvszwmarrgswjxmb` is naughty because it contains only one vowel.\n",
    "\n",
    "How many strings are nice?"
   ]
  },
  {
   "cell_type": "code",
   "execution_count": 1,
   "metadata": {
    "collapsed": false
   },
   "outputs": [
    {
     "name": "stdout",
     "output_type": "stream",
     "text": [
      "Day5 Part1: 255\n"
     ]
    }
   ],
   "source": [
    "has3vowels=: 3 <: [: +/ e.&'aeiou'\n",
    "hasDouble=: [: +./ 2 =/\\ ]\n",
    "noBadStrings=: -.@(+./)@((_2 ]\\ 'abcdpqxy') +./@E.\"1 ])\n",
    "isNiceString=: noBadStrings *. hasDouble *. has3vowels\n",
    "\n",
    "input=: 'b' freads '~AoC/2015/aoc05_input.txt'\n",
    "echo 'Day5 Part1: ',\": +/ isNiceString &> input"
   ]
  },
  {
   "cell_type": "markdown",
   "metadata": {},
   "source": [
    "## Part 2\n",
    "Realizing the error of his ways, Santa has switched to a better model of determining \n",
    "whether a string is naughty or nice. None of the old rules apply, as they are all \n",
    "clearly ridiculous.\n",
    "\n",
    "Now, a nice string is one with all of the following properties:\n",
    "\n",
    "  * It contains a pair of any two letters that appears at least twice in the string without overlapping, like `xyxy` (`xy`) or `aabcdefgaa` (`aa`), but not like `aaa` (`aa`, but it overlaps).\n",
    "  * It contains at least one letter which repeats with exactly one letter between them, like `xyx`, `abcdefeghi` (`efe`), or even `aaa`.\n",
    "\n",
    "For example:\n",
    "\n",
    "  * `qjhvhtzxzqqjkmpb` is nice because is has a pair that appears twice (`qj`) and a letter that repeats with exactly one letter between them (`zxz`).\n",
    "  * `xxyxx` is nice because it has a pair that appears twice and a letter that repeats with one between, even though the letters used by each rule overlap.\n",
    "  * `uurcxstgmygtbstg` is naughty because it has a pair (`tg`) but no repeat with a single letter between them.\n",
    "  * `ieodomkazucvgmuy` is naughty because it has a repeating letter with one between (`odo`), but no pair that appears twice.\n",
    "\n",
    "How many strings are nice under these new rules?\n",
    ")"
   ]
  },
  {
   "cell_type": "code",
   "execution_count": 2,
   "metadata": {
    "collapsed": false
   },
   "outputs": [
    {
     "name": "stdout",
     "output_type": "stream",
     "text": [
      "Day5 Part2: 55\n"
     ]
    }
   ],
   "source": [
    "NB. http://code.jsoftware.com/wiki/Essays/Non-Overlapping_Substrings\n",
    "tc  =: ,&_1 {~^:a: 0:\n",
    "findNonOverlapStr=: i.@#@] e. #@[ (tc@(] I. +) { _1 ,~ ]) I.@E.\n",
    "hasPair2Letters=: 1 < [: >./ [: +/\"1 ] findNonOverlapStr\"1~ 2 ]\\ ]\n",
    "hasRepeatedLetter=: [: +./ ] = '55' ,~ 2&}.\n",
    "isNiceString2=: hasPair2Letters *. hasRepeatedLetter\n",
    "echo 'Day5 Part2: ',\": +/ isNiceString2 &> input"
   ]
  }
 ],
 "metadata": {
  "kernelspec": {
   "display_name": "J",
   "language": "J",
   "name": "jkernel"
  },
  "language_info": {
   "file_extension": "ijs",
   "mimetype": "text/x-J",
   "name": "J"
  }
 },
 "nbformat": 4,
 "nbformat_minor": 0
}
