{
 "cells": [
  {
   "cell_type": "markdown",
   "metadata": {},
   "source": [
    "# Day 15\n",
    "## Part 1\n",
    "Today, you set out on the task of perfecting your milk-dunking cookie recipe. All you have to do is find the right balance of ingredients.\n",
    "\n",
    "Your recipe leaves room for exactly 100 teaspoons of ingredients. You make a list of the remaining ingredients you could use to finish the recipe (your puzzle input) and their properties per teaspoon:\n",
    "\n",
    "  * capacity (how well it helps the cookie absorb milk)\n",
    "  * durability (how well it keeps the cookie intact when full of milk)\n",
    "  * flavor (how tasty it makes the cookie)\n",
    "  * texture (how it improves the feel of the cookie)\n",
    "  * calories (how many calories it adds to the cookie)\n",
    "\n",
    "You can only measure ingredients in whole-teaspoon amounts accurately, and you have to be accurate so you can reproduce your results in the future. The total score of a cookie can be found by adding up each of the properties (negative totals become 0) and then multiplying together everything except calories.\n",
    "\n",
    "For instance, suppose you have these two ingredients:\n",
    "```\n",
    "Butterscotch: capacity -1, durability -2, flavor 6, texture 3, calories 8\n",
    "Cinnamon: capacity 2, durability 3, flavor -2, texture -1, calories 3\n",
    "```\n",
    "Then, choosing to use 44 teaspoons of butterscotch and 56 teaspoons of cinnamon (because the amounts of each ingredient must add up to 100) would result in a cookie with the following properties:\n",
    "```\n",
    "A capacity of 44*-1 + 56*2 = 68\n",
    "A durability of 44*-2 + 56*3 = 80\n",
    "A flavor of 44*6 + 56*-2 = 152\n",
    "A texture of 44*3 + 56*-1 = 76\n",
    "```\n",
    "Multiplying these together (`68 * 80 * 152 * 76`, ignoring calories for now) results in a total score of `62842880`, which happens to be the best score possible given these ingredients. If any properties had produced a negative total, it would have instead become zero, causing the whole score to multiply to zero.\n",
    "\n",
    "Given the ingredients in your kitchen and their properties, what is the total score of the highest-scoring cookie you can make?\n",
    ")"
   ]
  },
  {
   "cell_type": "code",
   "execution_count": null,
   "metadata": {
    "collapsed": true
   },
   "outputs": [],
   "source": [
    "tst=: 0 :0\n",
    "Butterscotch: capacity -1, durability -2, flavor 6, texture 3, calories 8\n",
    "Cinnamon: capacity 2, durability 3, flavor -2, texture -1, calories 3\n",
    ")"
   ]
  },
  {
   "cell_type": "code",
   "execution_count": 1,
   "metadata": {
    "collapsed": false
   },
   "outputs": [
    {
     "name": "stdout",
     "output_type": "stream",
     "text": [
      "Day15 Part1: 222870\n"
     ]
    }
   ],
   "source": [
    "input=: freads '~AoC/2015/aoc15_input.txt'\n",
    "\n",
    "parseInput=: _99 -.~\"1 (_99) \". [: ];._2 ',' -.~ ]\n",
    "Vals=: parseInput tst\n",
    "Vals=: parseInput input\n",
    "\n",
    "score=: ([: (*/\"1) 0 >. [ +/ .*\"1 _ }:\"1@])&Vals\n",
    "NB. score 40 60 , 44 56 ,: 80 20\n",
    "\n",
    "NB. Parts from http://code.jsoftware.com/wiki/Essays/AllPartitions\n",
    "Parts=: (1: + - ;@(<@$:\"0 >:@i.) ])`(< }. ] ,:@# 1:)@.<:\n",
    "allPerms=: i.@!@# A. ]\n",
    "echo 'Day15 Part1: ',\":  >./ score ; <@~.@allPerms\"1  ] 100 Parts # Vals"
   ]
  },
  {
   "cell_type": "markdown",
   "metadata": {},
   "source": [
    "## Part 2\n",
    "Your cookie recipe becomes wildly popular! Someone asks if you can make another recipe that has exactly 500 calories per cookie (so they can use it as a meal replacement). Keep the rest of your award-winning process the same (100 teaspoons, same ingredients, same scoring system).\n",
    "\n",
    "For example, given the ingredients above, if you had instead selected 40 teaspoons of butterscotch and 60 teaspoons of cinnamon (which still adds to 100), the total calorie count would be `40*8 + 60*3 = 500`. The total score would go down, though: only `57600000`, the best you can do in such trying circumstances.\n",
    "\n",
    "Given the ingredients in your kitchen and their properties, what is the total score of the highest-scoring cookie you can make with a calorie total of 500?"
   ]
  },
  {
   "cell_type": "code",
   "execution_count": 2,
   "metadata": {
    "collapsed": false
   },
   "outputs": [
    {
     "name": "stdout",
     "output_type": "stream",
     "text": [
      "Day15 Part2: 117936\n"
     ]
    }
   ],
   "source": [
    "cals=: ([ +/ .*\"1 {:\"1@])&Vals\n",
    "NB. cals 40 60 , 44 56 ,: 80 20\n",
    "\n",
    "echo 'Day15 Part2: ',\":  >./ score  (#~ 500 = cals) ; <@~.@allPerms\"1  ] 100 Parts # Vals"
   ]
  }
 ],
 "metadata": {
  "kernelspec": {
   "display_name": "J",
   "language": "J",
   "name": "jkernel"
  },
  "language_info": {
   "file_extension": "ijs",
   "mimetype": "text/x-J",
   "name": "J"
  }
 },
 "nbformat": 4,
 "nbformat_minor": 0
}
