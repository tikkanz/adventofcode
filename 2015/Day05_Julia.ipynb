{
 "cells": [
  {
   "cell_type": "markdown",
   "metadata": {},
   "source": [
    "## Part 1\n",
    "Santa needs help figuring out which strings in his text file are naughty or nice.\n",
    "\n",
    "A nice string is one with all of the following properties:\n",
    "\n",
    "    It contains at least three vowels (aeiou only), like aei, xazegov, or aeiouaeiouaeiou.\n",
    "    It contains at least one letter that appears twice in a row, like xx, abcdde (dd), or aabbccdd (aa, bb, cc, or dd).\n",
    "    It does not contain the strings ab, cd, pq, or xy, even if they are part of one of the other requirements.\n",
    "\n",
    "For example:\n",
    "\n",
    "    ugknbfddgicrmopn is nice because it has at least three vowels (u...i...o...), a double letter (...dd...), and none of the disallowed substrings.\n",
    "    aaa is nice because it has at least three vowels and a double letter, even though the letters used by different rules overlap.\n",
    "    jchzalrnumimnmhp is naughty because it has no double letter.\n",
    "    haegwjzuvuyypxyu is naughty because it contains the string xy.\n",
    "    dvszwmarrgswjxmb is naughty because it contains only one vowel.\n",
    "\n",
    "How many strings are nice?"
   ]
  },
  {
   "cell_type": "code",
   "execution_count": 16,
   "metadata": {
    "collapsed": false
   },
   "outputs": [
    {
     "ename": "LoadError",
     "evalue": "LoadError: MethodError: `chomp` has no method matching chomp(::Char)\nwhile loading In[16], in expression starting on line 1",
     "output_type": "error",
     "traceback": [
      "LoadError: MethodError: `chomp` has no method matching chomp(::Char)\nwhile loading In[16], in expression starting on line 1",
      "",
      " in map at strings/basic.jl:251",
      " in anonymous at In[16]:2",
      " in open at ./iostream.jl:114"
     ]
    }
   ],
   "source": [
    "open(\"/home/rishe0/AdventOfCode/advent05_input.txt\") do f\n",
    "    input = readline(f)\n",
    "end\n",
    "chomp(input[2])\n",
    "#has3vowels=: 3 <: [: +/ e.&'aeiou'\n",
    "#hasDouble=: [: +./ 2 =/\\ ]\n",
    "#noBadStrings=: -.@(+./)@((_2 ]\\ 'abcdpqxy') +./@E.\"1 ])\n",
    "#isNiceString=: noBadStrings *. hasDouble *. has3vowels\n",
    "\n",
    "#input=: 'b' freads '~temp/advent05_input.txt'\n",
    "#+/ isNiceString &> input"
   ]
  },
  {
   "cell_type": "markdown",
   "metadata": {},
   "source": [
    "## Part 2\n",
    "Realizing the error of his ways, Santa has switched to a better model of determining whether a string is naughty or nice. None of the old rules apply, as they are all clearly ridiculous.\n",
    "\n",
    "Now, a nice string is one with all of the following properties:\n",
    "\n",
    "    It contains a pair of any two letters that appears at least twice in the string without overlapping, like xyxy (xy) or aabcdefgaa (aa), but not like aaa (aa, but it overlaps).\n",
    "    It contains at least one letter which repeats with exactly one letter between them, like xyx, abcdefeghi (efe), or even aaa.\n",
    "\n",
    "For example:\n",
    "\n",
    "    qjhvhtzxzqqjkmpb is nice because is has a pair that appears twice (qj) and a letter that repeats with exactly one letter between them (zxz).\n",
    "    xxyxx is nice because it has a pair that appears twice and a letter that repeats with one between, even though the letters used by each rule overlap.\n",
    "    uurcxstgmygtbstg is naughty because it has a pair (tg) but no repeat with a single letter between them.\n",
    "    ieodomkazucvgmuy is naughty because it has a repeating letter with one between (odo), but no pair that appears twice.\n",
    "\n",
    "How many strings are nice under these new rules?"
   ]
  },
  {
   "cell_type": "markdown",
   "metadata": {},
   "source": [
    "tc  =: ,&_1 {~^:a: 0:\n",
    "findNonOverlapStr=: i.@#@] e. #@[ (tc@(] I. +) { _1 ,~ ]) I.@E.\n",
    "hasPair2Letters=: 1 < [: >./ [: +/\"1 ] nos\"1~ 2 ]\\ ]\n",
    "hasRepeatedLetter=: [: +./ ] = '55' ,~ 2&}.\n",
    "isNiceString2=: hasPair2Letters *. hasRepeatedLetter\n",
    "+/ isNiceString2 &> input"
   ]
  }
 ],
 "metadata": {
  "kernelspec": {
   "display_name": "Julia 0.4.5",
   "language": "julia",
   "name": "julia-0.4"
  },
  "language_info": {
   "file_extension": ".jl",
   "mimetype": "application/julia",
   "name": "julia",
   "version": "0.4.5"
  }
 },
 "nbformat": 4,
 "nbformat_minor": 0
}
