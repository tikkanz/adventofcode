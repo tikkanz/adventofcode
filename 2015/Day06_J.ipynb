{
 "cells": [
  {
   "cell_type": "markdown",
   "metadata": {},
   "source": [
    "# Day 6\n",
    "## Part 1\n",
    "Because your neighbors keep defeating you in the holiday house decorating \n",
    "contest year after year, you've decided to deploy one million lights in a \n",
    "1000x1000 grid.\n",
    "\n",
    "Furthermore, because you've been especially nice this year, Santa has mailed \n",
    "you instructions on how to display the ideal lighting configuration.\n",
    "\n",
    "Lights in your grid are numbered from 0 to 999 in each direction; the lights \n",
    "at each corner are at 0,0, 0,999, 999,999, and 999,0. The instructions \n",
    "include whether to turn on, turn off, or toggle various inclusive ranges given \n",
    "as coordinate pairs. Each coordinate pair represents opposite corners of a \n",
    "rectangle, inclusive; a coordinate pair like 0,0 through 2,2 therefore refers \n",
    "to 9 lights in a 3x3 square. The lights all start turned off.\n",
    "\n",
    "To defeat your neighbors this year, all you have to do is set up your lights \n",
    "by doing the instructions Santa sent you in order.\n",
    "\n",
    "For example:\n",
    "\n",
    "  * `turn on 0,0 through 999,999 would turn on (or leave on) every light.\n",
    "  * toggle 0,0 through 999,0 would toggle the first line of 1000 lights, turning off the ones that were on, and turning on the ones that were off.\n",
    "  * turn off 499,499 through 500,500 would turn off (or leave off) the middle four lights.\n",
    "\n",
    "After following the instructions, how many lights are lit?"
   ]
  },
  {
   "cell_type": "code",
   "execution_count": 1,
   "metadata": {
    "collapsed": false
   },
   "outputs": [
    {
     "name": "stdout",
     "output_type": "stream",
     "text": [
      "Day6 Part1: 377891\n"
     ]
    }
   ],
   "source": [
    "parseInstructs=: 3 :0\n",
    "  tmp=. y rplc 'turn ';'';'through ';''\n",
    "  action=. <@(' '&taketo);._2 tmp\n",
    "  coords=. \". ' '&takeafter;._2 tmp\n",
    "  action=. ('off';'on';'toggle') i. action\n",
    "  action ,. coords\n",
    ")\n",
    "\n",
    "getIdx=: [: < ([ + i.@>:@-~)&.>/@(_2 ]\\ ])\n",
    "on=: 1:`(getIdx@[)`]}\n",
    "off=: 0:`(getIdx@[)`]}\n",
    "toggle=: ([: -. getIdx@[ { ])`(getIdx@[)`]}\n",
    "\n",
    "applyActions=: 4 :0\n",
    "  actions=. {.\"1 x\n",
    "  coords=. }.\"1 x\n",
    "  for_action. actions do.\n",
    "    coord=. action_index { coords\n",
    "    y=. coord off`on`toggle@.action\"_ y\n",
    "  end.\n",
    ")\n",
    "\n",
    "Lights=: 1000 1000 $ 0\n",
    "Instructions=: parseInstructs freads '~AoC/2015/aoc06_input.txt'\n",
    "Lights=: Instructions applyActions Lights\n",
    "echo 'Day6 Part1: ',\": +/ , Lights"
   ]
  },
  {
   "cell_type": "markdown",
   "metadata": {},
   "source": [
    "## Part 2\n",
    "You just finish implementing your winning light pattern when you realize \n",
    "you mistranslated Santa's message from Ancient Nordic Elvish.\n",
    "\n",
    "The light grid you bought actually has individual brightness controls; \n",
    "each light can have a brightness of zero or more. The lights all start at zero.\n",
    "\n",
    "The phrase *turn on* actually means that you should increase the brightness of \n",
    "those lights by 1.\n",
    "\n",
    "The phrase *turn off* actually means that you should decrease the brightness of \n",
    "those lights by 1, to a minimum of zero.\n",
    "\n",
    "The phrase *toggle* actually means that you should increase the brightness of \n",
    "those lights by 2.\n",
    "\n",
    "What is the total brightness of all lights combined after following Santa's \n",
    "instructions?\n",
    "\n",
    "For example:\n",
    "\n",
    "  * `turn on 0,0 through 0,0` would increase the total brightness by 1.\n",
    "  * `toggle 0,0 through 999,999` would increase the total brightness by 2000000."
   ]
  },
  {
   "cell_type": "code",
   "execution_count": 2,
   "metadata": {
    "collapsed": false
   },
   "outputs": [
    {
     "name": "stdout",
     "output_type": "stream",
     "text": [
      "Day6 Part2: 14110788\n"
     ]
    }
   ],
   "source": [
    "on=: (1 + getIdx@[ { ])`(getIdx@[)`]}\n",
    "off=: (0 >. _1 + getIdx@[ { ])`(getIdx@[)`]}\n",
    "toggle=: (2 + getIdx@[ { ])`(getIdx@[)`]}\n",
    "\n",
    "Lights=: 1000 1000 $ 0\n",
    "Lights=: Instructions applyActions Lights\n",
    "echo 'Day6 Part2: ',\": +/ , Lights"
   ]
  }
 ],
 "metadata": {
  "kernelspec": {
   "display_name": "J",
   "language": "J",
   "name": "jkernel"
  },
  "language_info": {
   "file_extension": "ijs",
   "mimetype": "text/x-J",
   "name": "J"
  }
 },
 "nbformat": 4,
 "nbformat_minor": 0
}
