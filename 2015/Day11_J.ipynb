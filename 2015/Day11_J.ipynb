{
 "cells": [
  {
   "cell_type": "markdown",
   "metadata": {},
   "source": [
    "# Day 11\n",
    "## Part 1\n",
    "Santa's previous password expired, and he needs help choosing a new one.\n",
    "\n",
    "To help him remember his new password after the old one expires, Santa has devised a method of coming up with a password based on the previous one. Corporate policy dictates that passwords must be exactly eight lowercase letters (for security reasons), so he finds his new password by incrementing his old password string repeatedly until it is valid.\n",
    "\n",
    "Incrementing is just like counting with numbers: \n",
    "`xx`, `xy`, `xz`, `ya`, `yb`, and so on. Increase the rightmost letter one step; if it was `z`, it wraps around to `a`, and repeat with the next letter to the left until one doesn't wrap around.\n",
    "\n",
    "Unfortunately for Santa, a new Security-Elf recently started, and he has imposed some additional password requirements:\n",
    "\n",
    "  * Passwords must include one increasing straight of at least three letters, like `abc`, `bcd`, `cde`, and so on, up to `xyz`. They cannot skip letters; `abd` doesn't count.\n",
    "  * Passwords may not contain the letters `i`, `o`, or `l`, as these letters can be mistaken for other characters and are therefore confusing.\n",
    "  * Passwords must contain at least two different, non-overlapping pairs of letters, like `aa`, `bb`, or `zz`.\n",
    "\n",
    "For example:\n",
    "\n",
    "  * `hijklmmn` meets the first requirement (because it contains the straight `hij`) but fails the second requirement requirement (because it contains `i` and `l`).\n",
    "  * `abbceffg` meets the third requirement (because it repeats `bb` and `ff`) but fails the first requirement.\n",
    "  * `abbcegjk` fails the third requirement, because it only has one double letter (`bb`).\n",
    "  * The next password after `abcdefgh` is `abcdffaa`.\n",
    "  * The next password after `ghijklmn` is `ghjaabcc`, because you eventually skip all the passwords that start with `ghi`..., since `i` is not allowed.\n",
    "\n",
    "Given Santa's current password (your puzzle input), what should his next password be?\n",
    "\n",
    "Your puzzle input is `vzbxkghb`."
   ]
  },
  {
   "cell_type": "code",
   "execution_count": 1,
   "metadata": {
    "collapsed": false
   },
   "outputs": [
    {
     "name": "stdout",
     "output_type": "stream",
     "text": [
      "Day11 Part1: vzbxxyzz\n"
     ]
    }
   ],
   "source": [
    "Letters=: 'abcdefghijklmnopqrstuvwxyz'\n",
    "BadLetters=: Letters i. 'iol'\n",
    "getLetters=: {&Letters\n",
    "antibase26=: (8#26)&#:\n",
    "getPassword=: getLetters@antibase26\n",
    "\n",
    "hasStraight=: [: +./ 3 (-: 0 1 2 + {.)\\ ]\n",
    "hasNoBad=: -.@(+./)@:e.&BadLetters\n",
    "has2DoubleLetters=: ((1 < +/) *. 0 1 0 +./@E. ])@(2 =/\\ ])\n",
    "chkPassword=: hasStraight,hasNoBad,has2DoubleLetters\n",
    "validPassword=: *./@chkPassword\n",
    "\n",
    "nextPassword=: (>:^:([: -.@validPassword antibase26)^:(_))&.(getPassword^:_1)\n",
    "\n",
    "tst=: 'abcdefgh'\n",
    "input=: 'vzbxkghb'\n",
    "\n",
    "echo 'Day11 Part1: ',\": nextPassword input"
   ]
  },
  {
   "cell_type": "markdown",
   "metadata": {},
   "source": [
    "## Part 2\n",
    "Santa's password expired again. What's the next one?"
   ]
  },
  {
   "cell_type": "code",
   "execution_count": 2,
   "metadata": {
    "collapsed": false
   },
   "outputs": [
    {
     "name": "stdout",
     "output_type": "stream",
     "text": [
      "Day11 Part2: vzcaabcc\n"
     ]
    }
   ],
   "source": [
    "echo 'Day11 Part2: ',\": nextPassword >:&.(getPassword^:_1) nextPassword input"
   ]
  }
 ],
 "metadata": {
  "kernelspec": {
   "display_name": "J",
   "language": "J",
   "name": "jkernel"
  },
  "language_info": {
   "file_extension": "ijs",
   "mimetype": "text/x-J",
   "name": "J"
  }
 },
 "nbformat": 4,
 "nbformat_minor": 0
}
