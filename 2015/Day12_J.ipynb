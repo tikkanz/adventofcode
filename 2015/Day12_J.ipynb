{
 "cells": [
  {
   "cell_type": "markdown",
   "metadata": {},
   "source": [
    "# Day 12\n",
    "## Part 1\n",
    "Santa's Accounting-Elves need help balancing the books after a recent order. Unfortunately, their accounting software uses a peculiar storage format. That's where you come in.\n",
    "\n",
    "They have a JSON document which contains a variety of things: arrays ([1,2,3]), objects ({\"a\":1, \"b\":2}), numbers, and strings. Your first job is to simply find all of the numbers throughout the document and add them together.\n",
    "\n",
    "For example:\n",
    "\n",
    "  * `[1,2,3]` and `{\"a\":2,\"b\":4}` both have a sum of 6.\n",
    "  * `[[[3]]]` and `{\"a\":{\"b\":4},\"c\":-1}` both have a sum of 3.\n",
    "  * `{\"a\":[-1,1]}` and `[-1,{\"a\":1}]` both have a sum of 0.\n",
    "  * `[]` and `{}` both have a sum of 0.\n",
    "\n",
    "You will not encounter any strings containing numbers.\n",
    "\n",
    "What is the sum of all numbers in the document?"
   ]
  },
  {
   "cell_type": "code",
   "execution_count": 2,
   "metadata": {
    "collapsed": false
   },
   "outputs": [
    {
     "name": "stdout",
     "output_type": "stream",
     "text": [
      "Day12 Part1: 156366\n"
     ]
    }
   ],
   "source": [
    "input=: }: freads '~AoC/2015/aoc12_input.txt'\n",
    "echo 'Day12 Part1: ',\":  +/ _99 \". ', ' rplc~ '[]{}\"abcdefghijklmnopqrstuvwxyz:' -.~ input"
   ]
  },
  {
   "cell_type": "markdown",
   "metadata": {},
   "source": [
    "## Part 2\n",
    "Uh oh - the Accounting-Elves have realized that they double-counted everything red.\n",
    "\n",
    "Ignore any object (and all of its children) which has any property with the value \"red\". Do this only for objects (`{...}`), not arrays (`[...]`).\n",
    "\n",
    "  * `[1,2,3]` still has a sum of 6.\n",
    "  * `[1,{\"c\":\"red\",\"b\":2},3]` now has a sum of 4, because the middle object is ignored.\n",
    "  * `{\"d\":\"red\",\"e\":[1,2,3,4],\"f\":5}` now has a sum of 0, because the entire structure is ignored.\n",
    "  * `[1,\"red\",5]` has a sum of 6, because \"red\" in an array has no effect."
   ]
  },
  {
   "cell_type": "code",
   "execution_count": 3,
   "metadata": {
    "collapsed": false
   },
   "outputs": [
    {
     "name": "stdout",
     "output_type": "stream",
     "text": [
      "Day12 Part2: 96852\n"
     ]
    }
   ],
   "source": [
    "tst1=: '[1,2,3]'\n",
    "tst2=: '[1,{\"c\":\"red\",\"b\":2},3]'\n",
    "tst3=: '{\"d\":\"red\",\"e\":[1,2,3,4],\"f\":5}'\n",
    "tst4=: '[1,\"red\",5]'\n",
    "tst5=: '[' , tst1 ,',', tst2 ,',', tst3 ,',', tst4 , ']' \n",
    "\n",
    "load 'convert/json validate'\n",
    "isObject=: # *./&(2&=) #@$\n",
    "isRed=: (<'red')&e.\n",
    "isNumeric=: 3!:0 e. 1 4 8 16 64 128\"_\n",
    "isBoxed=: 32 = 3!:0\n",
    " \n",
    "Note 'fiddle'\n",
    "isObject (0 ; 1 0) {:: dec_json input\n",
    "isRed (0 ; 1 0) {:: dec_json input\n",
    ")\n",
    "\n",
    "SUM=: 0 \n",
    "\n",
    "sumNonRedNums=: 3 :0\n",
    "for_item. y do.\n",
    "  item=. > item\n",
    "  if. isObject item do.\n",
    "    props=. {: item\n",
    "    if. -.@isRed props do.\n",
    "      SUM=: SUM + +/ ; (#~ isNumeric&>) props\n",
    "    else. empty'' continue.\n",
    "    end.\n",
    "  else.\n",
    "    props=. item\n",
    "    SUM=: SUM + +/@;@(#~ isNumeric&>) props\n",
    "  end.\n",
    "  sumNonRedNums (#~ isBoxed&>) props\n",
    "end.\n",
    ")\n",
    "\n",
    "sumNonRedNums dec_json input\n",
    "\n",
    "echo 'Day12 Part2: ',\": SUM"
   ]
  }
 ],
 "metadata": {
  "kernelspec": {
   "display_name": "J",
   "language": "J",
   "name": "jkernel"
  },
  "language_info": {
   "file_extension": "ijs",
   "mimetype": "text/x-J",
   "name": "J"
  }
 },
 "nbformat": 4,
 "nbformat_minor": 0
}
