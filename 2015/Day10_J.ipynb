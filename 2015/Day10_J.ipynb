{
 "cells": [
  {
   "cell_type": "markdown",
   "metadata": {},
   "source": [
    "# Day 10\n",
    "## Part 1\n",
    "Today, the Elves are playing a game called look-and-say. They take turns making sequences by reading aloud the previous sequence and using that reading as the next sequence. For example, 211 is read as \"one two, two ones\", which becomes 1221 (1 2, 2 1s).\n",
    "\n",
    "Look-and-say sequences are generated iteratively, using the previous value as input for the next step. For each step, take the previous value, and replace each run of digits (like 111) with the number of digits (3) followed by the digit itself (1).\n",
    "\n",
    "For example:\n",
    "\n",
    "  * 1 becomes 11 (1 copy of digit 1).\n",
    "  * 11 becomes 21 (2 copies of digit 1).\n",
    "  * 21 becomes 1211 (one 2 followed by one 1).\n",
    "  * 1211 becomes 111221 (one 1, one 2, and two 1s).\n",
    "  * 111221 becomes 312211 (three 1s, two 2s, and one 1).\n",
    "\n",
    "Starting with the digits in your puzzle input, apply this process 40 times. What is the length of the result?\n",
    "\n",
    "Your puzzle input is `1113122113`."
   ]
  },
  {
   "cell_type": "code",
   "execution_count": 1,
   "metadata": {
    "collapsed": false
   },
   "outputs": [
    {
     "name": "stdout",
     "output_type": "stream",
     "text": [
      "Day10 Part1: 360154\n"
     ]
    }
   ],
   "source": [
    "input=: '1113122113'\n",
    "\n",
    "las_numeric=: ,@((# , {.);.1~ 1 , 2 ~:/\\ ])&.(10x&#.inv)@]^:(1+i.@[)\n",
    "las=: ([: , (1 , 2 ~:/\\ i.~)@] (\":@# , {.);.1 ])^:[\n",
    "\n",
    "echo 'Day10 Part1: ',\": # 40 las input"
   ]
  },
  {
   "cell_type": "markdown",
   "metadata": {},
   "source": [
    "## Part 2\n",
    "Neat, right? You might also enjoy hearing John Conway talking about this sequence (that's Conway of Conway's Game of Life fame).\n",
    "\n",
    "Now, starting again with the digits in your puzzle input, apply this process 50 times. What is the length of the new result?"
   ]
  },
  {
   "cell_type": "code",
   "execution_count": 2,
   "metadata": {
    "collapsed": false
   },
   "outputs": [
    {
     "name": "stdout",
     "output_type": "stream",
     "text": [
      "Day10 Part2: 5103798\n"
     ]
    }
   ],
   "source": [
    "echo 'Day10 Part2: ',\": # 50 las input"
   ]
  }
 ],
 "metadata": {
  "kernelspec": {
   "display_name": "J",
   "language": "J",
   "name": "jkernel"
  },
  "language_info": {
   "file_extension": "ijs",
   "mimetype": "text/x-J",
   "name": "J"
  }
 },
 "nbformat": 4,
 "nbformat_minor": 0
}
